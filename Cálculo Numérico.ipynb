{
 "cells": [
  {
   "cell_type": "code",
   "execution_count": 16,
   "metadata": {},
   "outputs": [
    {
     "name": "stdout",
     "output_type": "stream",
     "text": [
      "Dê um chute inicial: 2\n",
      "Informe o erro: 0.000000000001\n",
      "A raiz positiva do polinômio é 7.867452883615261\n",
      "A raiz negativa do polinômio é -4.7152528836152605\n",
      "O resto do polinômio, considerando a raiz negativa e a utilização do método de Briot-Ruffini-Horner, é de 0.007710103825942838\n"
     ]
    }
   ],
   "source": [
    "#Projeto 3.9 letra a\n",
    "def f(t):\n",
    "    return (37.104740+(3.15122*t)-(t**2))\n",
    "def f_(t):\n",
    "    return (3.15122-(2*t))\n",
    "def erro(xa, xb):\n",
    "    return abs((xa-xb)/xa)\n",
    "def i(x, a, b):\n",
    "    return x - (a/b)\n",
    "x = float(input('Dê um chute inicial: '))\n",
    "e = float(input('Informe o erro: '))\n",
    "lista = []\n",
    "while True:\n",
    "    xn = i(x, f(x), f_(x))\n",
    "    er = erro(xn, x)\n",
    "    if er < e:\n",
    "        print(f'A raiz positiva do polinômio é {xn}')\n",
    "        break\n",
    "    else:\n",
    "        x = xn\n",
    "#Projeto 3.9 letra b\n",
    "#Método Briot-Ruffini-Horner\n",
    "xn2 = -1*xn+3.1522\n",
    "res = xn2*xn+37.104740\n",
    "print(f'A raiz negativa do polinômio é {xn2}')\n",
    "print(f'O resto do polinômio, considerando a raiz negativa e a utilização do método de Briot-Ruffini-Horner, é de {res}')"
   ]
  },
  {
   "cell_type": "code",
   "execution_count": null,
   "metadata": {},
   "outputs": [],
   "source": []
  }
 ],
 "metadata": {
  "kernelspec": {
   "display_name": "Python 3",
   "language": "python",
   "name": "python3"
  },
  "language_info": {
   "codemirror_mode": {
    "name": "ipython",
    "version": 3
   },
   "file_extension": ".py",
   "mimetype": "text/x-python",
   "name": "python",
   "nbconvert_exporter": "python",
   "pygments_lexer": "ipython3",
   "version": "3.6.4"
  }
 },
 "nbformat": 4,
 "nbformat_minor": 2
}
